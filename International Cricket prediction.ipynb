{
 "cells": [
  {
   "cell_type": "markdown",
   "metadata": {},
   "source": [
    "### Winning the company world cup cricket pool\n",
    "... without following the actual games\n",
    "\n",
    "I wanted to participate in the company world cup cricket mania without being left out because of my own ignorance towards the sport. \n",
    "So I decided to fight the battle in my own battlefield.\n",
    "\n",
    "The constraints I had for myself were simple:\n",
    "1. Don't spend a lot of time. Maximum of 1 day end to end. This ruled out any massive model building using play by play stats, players stats, team dynamics etc.\n",
    "2. Encode the zeitgeist and perception of the sports fans and enthusiasts rather than focus on micro indicators.\n",
    "\n",
    "Here's how I went about winning the pool (shared it with two other folks)."
   ]
  },
  {
   "cell_type": "code",
   "execution_count": 1,
   "metadata": {},
   "outputs": [
    {
     "name": "stderr",
     "output_type": "stream",
     "text": [
      "/home/sridhar/PE_CSV/malenv3/lib/python3.6/site-packages/psycopg2/__init__.py:144: UserWarning: The psycopg2 wheel package will be renamed from release 2.8; in order to keep installing from binary please use \"pip install psycopg2-binary\" instead. For details see: <http://initd.org/psycopg/docs/install.html#binary-install-from-pypi>.\n",
      "  \"\"\")\n"
     ]
    }
   ],
   "source": [
    "import sys\n",
    "import threading\n",
    "import numpy as np\n",
    "import pandas as pd\n",
    "import psycopg2 as pgres\n",
    "import joblib\n",
    "import os\n",
    "import pdb\n",
    "import argparse\n",
    "import xgboost\n",
    "from IPython.display import display_html\n",
    "from lxml import html\n",
    "import requests\n",
    "from bs4 import BeautifulSoup\n",
    "from xgboost import XGBClassifier as xgb\n",
    "from sklearn.metrics import accuracy_score, recall_score, roc_auc_score, precision_score\n",
    "from sklearn.model_selection import (GridSearchCV, cross_val_score,\n",
    "                                     train_test_split)\n",
    "from sklearn.preprocessing import MinMaxScaler,StandardScaler,Normalizer"
   ]
  },
  {
   "cell_type": "markdown",
   "metadata": {},
   "source": [
    "### Find the needed data\n",
    "We need to find some data for all the international cricket matches for the last 2 decades. A simple google search would give bunch of such websites. Pick one and scrape the data to build a training set."
   ]
  },
  {
   "cell_type": "code",
   "execution_count": 2,
   "metadata": {},
   "outputs": [],
   "source": [
    "page = requests.get('http://howstat.com.au/cricket/Statistics/Matches/MatchList_ODI.asp?Group=2000010120191231&Range=2000')\n",
    "soup = BeautifulSoup(page.content)\n",
    "table = soup.find(\"table\", attrs={\"class\":\"TableLined\"})\n",
    "\n",
    "for a in table.findAll('a'):\n",
    "    a.replaceWithChildren()\n",
    "for a in table.findAll('span'):\n",
    "    a.replaceWithChildren()\n",
    "    \n",
    "for a in soup.findAll('tr'):\n",
    "    del a['bgcolor']\n",
    "\n",
    "for a in soup.findAll('td'):\n",
    "    del a['align']    "
   ]
  },
  {
   "cell_type": "code",
   "execution_count": 10,
   "metadata": {},
   "outputs": [
    {
     "data": {
      "text/plain": [
       "773741"
      ]
     },
     "execution_count": 10,
     "metadata": {},
     "output_type": "execute_result"
    }
   ],
   "source": [
    "file = open('/tmp/test.txt', 'w')\n",
    "file.write(str(table))"
   ]
  },
  {
   "cell_type": "markdown",
   "metadata": {},
   "source": [
    "Let's read the table into a pandas dataframe to make our lives easier"
   ]
  },
  {
   "cell_type": "code",
   "execution_count": 32,
   "metadata": {},
   "outputs": [
    {
     "data": {
      "text/html": [
       "<div>\n",
       "<style scoped>\n",
       "    .dataframe tbody tr th:only-of-type {\n",
       "        vertical-align: middle;\n",
       "    }\n",
       "\n",
       "    .dataframe tbody tr th {\n",
       "        vertical-align: top;\n",
       "    }\n",
       "\n",
       "    .dataframe thead th {\n",
       "        text-align: right;\n",
       "    }\n",
       "</style>\n",
       "<table border=\"1\" class=\"dataframe\">\n",
       "  <thead>\n",
       "    <tr style=\"text-align: right;\">\n",
       "      <th></th>\n",
       "      <th>0</th>\n",
       "      <th>1</th>\n",
       "      <th>2</th>\n",
       "      <th>3</th>\n",
       "      <th>4</th>\n",
       "      <th>5</th>\n",
       "    </tr>\n",
       "  </thead>\n",
       "  <tbody>\n",
       "    <tr>\n",
       "      <th>0</th>\n",
       "      <td>NaN</td>\n",
       "      <td>Date</td>\n",
       "      <td>Countries</td>\n",
       "      <td>Ground</td>\n",
       "      <td>Result</td>\n",
       "      <td>&amp;nbsp</td>\n",
       "    </tr>\n",
       "    <tr>\n",
       "      <th>1</th>\n",
       "      <td>1.0</td>\n",
       "      <td>02/01/2000</td>\n",
       "      <td>New Zealand v. West Indies</td>\n",
       "      <td>Eden Park</td>\n",
       "      <td>New Zealand won by 3 wickets</td>\n",
       "      <td>Scorecard</td>\n",
       "    </tr>\n",
       "    <tr>\n",
       "      <th>2</th>\n",
       "      <td>2.0</td>\n",
       "      <td>04/01/2000</td>\n",
       "      <td>New Zealand v. West Indies</td>\n",
       "      <td>Owen Delany Park</td>\n",
       "      <td>New Zealand won by 7 wickets</td>\n",
       "      <td>Scorecard</td>\n",
       "    </tr>\n",
       "    <tr>\n",
       "      <th>3</th>\n",
       "      <td>3.0</td>\n",
       "      <td>06/01/2000</td>\n",
       "      <td>New Zealand v. West Indies</td>\n",
       "      <td>McLean Park</td>\n",
       "      <td>New Zealand won by 4 wickets</td>\n",
       "      <td>Scorecard</td>\n",
       "    </tr>\n",
       "    <tr>\n",
       "      <th>4</th>\n",
       "      <td>4.0</td>\n",
       "      <td>08/01/2000</td>\n",
       "      <td>New Zealand v. West Indies</td>\n",
       "      <td>Westpac Stadium</td>\n",
       "      <td>New Zealand won by 8 wickets</td>\n",
       "      <td>Scorecard</td>\n",
       "    </tr>\n",
       "  </tbody>\n",
       "</table>\n",
       "</div>"
      ],
      "text/plain": [
       "     0           1                           2                 3  \\\n",
       "0  NaN        Date                   Countries            Ground   \n",
       "1  1.0  02/01/2000  New Zealand v. West Indies         Eden Park   \n",
       "2  2.0  04/01/2000  New Zealand v. West Indies  Owen Delany Park   \n",
       "3  3.0  06/01/2000  New Zealand v. West Indies       McLean Park   \n",
       "4  4.0  08/01/2000  New Zealand v. West Indies   Westpac Stadium   \n",
       "\n",
       "                              4          5  \n",
       "0                        Result      &nbsp  \n",
       "1  New Zealand won by 3 wickets  Scorecard  \n",
       "2  New Zealand won by 7 wickets  Scorecard  \n",
       "3  New Zealand won by 4 wickets  Scorecard  \n",
       "4  New Zealand won by 8 wickets  Scorecard  "
      ]
     },
     "execution_count": 32,
     "metadata": {},
     "output_type": "execute_result"
    }
   ],
   "source": [
    "dfs = pd.read_html(str(table))\n",
    "df = dfs[0]\n",
    "df.head()"
   ]
  },
  {
   "cell_type": "markdown",
   "metadata": {},
   "source": [
    "We need to clean this up a bit"
   ]
  },
  {
   "cell_type": "code",
   "execution_count": 33,
   "metadata": {},
   "outputs": [
    {
     "data": {
      "text/html": [
       "<div>\n",
       "<style scoped>\n",
       "    .dataframe tbody tr th:only-of-type {\n",
       "        vertical-align: middle;\n",
       "    }\n",
       "\n",
       "    .dataframe tbody tr th {\n",
       "        vertical-align: top;\n",
       "    }\n",
       "\n",
       "    .dataframe thead th {\n",
       "        text-align: right;\n",
       "    }\n",
       "</style>\n",
       "<table border=\"1\" class=\"dataframe\">\n",
       "  <thead>\n",
       "    <tr style=\"text-align: right;\">\n",
       "      <th></th>\n",
       "      <th>Date</th>\n",
       "      <th>Countries</th>\n",
       "      <th>Ground</th>\n",
       "      <th>Result</th>\n",
       "    </tr>\n",
       "  </thead>\n",
       "  <tbody>\n",
       "    <tr>\n",
       "      <th>1</th>\n",
       "      <td>02/01/2000</td>\n",
       "      <td>New Zealand v. West Indies</td>\n",
       "      <td>Eden Park</td>\n",
       "      <td>New Zealand won by 3 wickets</td>\n",
       "    </tr>\n",
       "    <tr>\n",
       "      <th>2</th>\n",
       "      <td>04/01/2000</td>\n",
       "      <td>New Zealand v. West Indies</td>\n",
       "      <td>Owen Delany Park</td>\n",
       "      <td>New Zealand won by 7 wickets</td>\n",
       "    </tr>\n",
       "    <tr>\n",
       "      <th>3</th>\n",
       "      <td>06/01/2000</td>\n",
       "      <td>New Zealand v. West Indies</td>\n",
       "      <td>McLean Park</td>\n",
       "      <td>New Zealand won by 4 wickets</td>\n",
       "    </tr>\n",
       "    <tr>\n",
       "      <th>4</th>\n",
       "      <td>08/01/2000</td>\n",
       "      <td>New Zealand v. West Indies</td>\n",
       "      <td>Westpac Stadium</td>\n",
       "      <td>New Zealand won by 8 wickets</td>\n",
       "    </tr>\n",
       "    <tr>\n",
       "      <th>5</th>\n",
       "      <td>09/01/2000</td>\n",
       "      <td>Australia v. Pakistan</td>\n",
       "      <td>Brisbane Cricket Ground</td>\n",
       "      <td>Pakistan won by 45 runs</td>\n",
       "    </tr>\n",
       "  </tbody>\n",
       "</table>\n",
       "</div>"
      ],
      "text/plain": [
       "         Date                   Countries                   Ground  \\\n",
       "1  02/01/2000  New Zealand v. West Indies                Eden Park   \n",
       "2  04/01/2000  New Zealand v. West Indies         Owen Delany Park   \n",
       "3  06/01/2000  New Zealand v. West Indies              McLean Park   \n",
       "4  08/01/2000  New Zealand v. West Indies          Westpac Stadium   \n",
       "5  09/01/2000       Australia v. Pakistan  Brisbane Cricket Ground   \n",
       "\n",
       "                         Result  \n",
       "1  New Zealand won by 3 wickets  \n",
       "2  New Zealand won by 7 wickets  \n",
       "3  New Zealand won by 4 wickets  \n",
       "4  New Zealand won by 8 wickets  \n",
       "5       Pakistan won by 45 runs  "
      ]
     },
     "execution_count": 33,
     "metadata": {},
     "output_type": "execute_result"
    }
   ],
   "source": [
    "del df[0]\n",
    "del df[5]\n",
    "header = df.iloc[0]\n",
    "df = df[1:]\n",
    "df = df.rename(columns = header)\n",
    "df.head()"
   ]
  },
  {
   "cell_type": "markdown",
   "metadata": {},
   "source": [
    "We'll separate out the countries"
   ]
  },
  {
   "cell_type": "code",
   "execution_count": 34,
   "metadata": {},
   "outputs": [
    {
     "data": {
      "text/html": [
       "<div>\n",
       "<style scoped>\n",
       "    .dataframe tbody tr th:only-of-type {\n",
       "        vertical-align: middle;\n",
       "    }\n",
       "\n",
       "    .dataframe tbody tr th {\n",
       "        vertical-align: top;\n",
       "    }\n",
       "\n",
       "    .dataframe thead th {\n",
       "        text-align: right;\n",
       "    }\n",
       "</style>\n",
       "<table border=\"1\" class=\"dataframe\">\n",
       "  <thead>\n",
       "    <tr style=\"text-align: right;\">\n",
       "      <th></th>\n",
       "      <th>Date</th>\n",
       "      <th>Ground</th>\n",
       "      <th>Result</th>\n",
       "      <th>Team_A</th>\n",
       "      <th>Team_B</th>\n",
       "    </tr>\n",
       "  </thead>\n",
       "  <tbody>\n",
       "    <tr>\n",
       "      <th>1</th>\n",
       "      <td>02/01/2000</td>\n",
       "      <td>Eden Park</td>\n",
       "      <td>New Zealand won by 3 wickets</td>\n",
       "      <td>New Zealand</td>\n",
       "      <td>West Indies</td>\n",
       "    </tr>\n",
       "    <tr>\n",
       "      <th>2</th>\n",
       "      <td>04/01/2000</td>\n",
       "      <td>Owen Delany Park</td>\n",
       "      <td>New Zealand won by 7 wickets</td>\n",
       "      <td>New Zealand</td>\n",
       "      <td>West Indies</td>\n",
       "    </tr>\n",
       "    <tr>\n",
       "      <th>3</th>\n",
       "      <td>06/01/2000</td>\n",
       "      <td>McLean Park</td>\n",
       "      <td>New Zealand won by 4 wickets</td>\n",
       "      <td>New Zealand</td>\n",
       "      <td>West Indies</td>\n",
       "    </tr>\n",
       "    <tr>\n",
       "      <th>4</th>\n",
       "      <td>08/01/2000</td>\n",
       "      <td>Westpac Stadium</td>\n",
       "      <td>New Zealand won by 8 wickets</td>\n",
       "      <td>New Zealand</td>\n",
       "      <td>West Indies</td>\n",
       "    </tr>\n",
       "    <tr>\n",
       "      <th>5</th>\n",
       "      <td>09/01/2000</td>\n",
       "      <td>Brisbane Cricket Ground</td>\n",
       "      <td>Pakistan won by 45 runs</td>\n",
       "      <td>Australia</td>\n",
       "      <td>Pakistan</td>\n",
       "    </tr>\n",
       "  </tbody>\n",
       "</table>\n",
       "</div>"
      ],
      "text/plain": [
       "         Date                   Ground                        Result  \\\n",
       "1  02/01/2000                Eden Park  New Zealand won by 3 wickets   \n",
       "2  04/01/2000         Owen Delany Park  New Zealand won by 7 wickets   \n",
       "3  06/01/2000              McLean Park  New Zealand won by 4 wickets   \n",
       "4  08/01/2000          Westpac Stadium  New Zealand won by 8 wickets   \n",
       "5  09/01/2000  Brisbane Cricket Ground       Pakistan won by 45 runs   \n",
       "\n",
       "        Team_A       Team_B  \n",
       "1  New Zealand  West Indies  \n",
       "2  New Zealand  West Indies  \n",
       "3  New Zealand  West Indies  \n",
       "4  New Zealand  West Indies  \n",
       "5    Australia     Pakistan  "
      ]
     },
     "execution_count": 34,
     "metadata": {},
     "output_type": "execute_result"
    }
   ],
   "source": [
    "new = df[\"Countries\"].str.split(\" v. \", n = 1, expand = True) \n",
    "df['Team_A'] = new[0]\n",
    "df['Team_B'] = new[1]\n",
    "del df[\"Countries\"]\n",
    "df.head()"
   ]
  },
  {
   "cell_type": "markdown",
   "metadata": {},
   "source": [
    "Now we get rid of all the matches that didn't yeild a winner and create a separate column for the winner. This would later be used as label for classification"
   ]
  },
  {
   "cell_type": "code",
   "execution_count": 35,
   "metadata": {},
   "outputs": [],
   "source": [
    "df = df[df['Result'] != \"Match abandoned\"]\n",
    "df = df[df['Result'] != \"No Result\"]\n",
    "df = df[df['Result'] != \"Match Tied\" ]\n",
    "    "
   ]
  },
  {
   "cell_type": "code",
   "execution_count": 36,
   "metadata": {},
   "outputs": [
    {
     "data": {
      "text/html": [
       "<div>\n",
       "<style scoped>\n",
       "    .dataframe tbody tr th:only-of-type {\n",
       "        vertical-align: middle;\n",
       "    }\n",
       "\n",
       "    .dataframe tbody tr th {\n",
       "        vertical-align: top;\n",
       "    }\n",
       "\n",
       "    .dataframe thead th {\n",
       "        text-align: right;\n",
       "    }\n",
       "</style>\n",
       "<table border=\"1\" class=\"dataframe\">\n",
       "  <thead>\n",
       "    <tr style=\"text-align: right;\">\n",
       "      <th></th>\n",
       "      <th>Date</th>\n",
       "      <th>Ground</th>\n",
       "      <th>Result</th>\n",
       "      <th>Team_A</th>\n",
       "      <th>Team_B</th>\n",
       "      <th>Winner</th>\n",
       "    </tr>\n",
       "  </thead>\n",
       "  <tbody>\n",
       "    <tr>\n",
       "      <th>1</th>\n",
       "      <td>02/01/2000</td>\n",
       "      <td>Eden Park</td>\n",
       "      <td>New Zealand won by 3 wickets</td>\n",
       "      <td>New Zealand</td>\n",
       "      <td>West Indies</td>\n",
       "      <td>New Zealand</td>\n",
       "    </tr>\n",
       "    <tr>\n",
       "      <th>2</th>\n",
       "      <td>04/01/2000</td>\n",
       "      <td>Owen Delany Park</td>\n",
       "      <td>New Zealand won by 7 wickets</td>\n",
       "      <td>New Zealand</td>\n",
       "      <td>West Indies</td>\n",
       "      <td>New Zealand</td>\n",
       "    </tr>\n",
       "    <tr>\n",
       "      <th>3</th>\n",
       "      <td>06/01/2000</td>\n",
       "      <td>McLean Park</td>\n",
       "      <td>New Zealand won by 4 wickets</td>\n",
       "      <td>New Zealand</td>\n",
       "      <td>West Indies</td>\n",
       "      <td>New Zealand</td>\n",
       "    </tr>\n",
       "    <tr>\n",
       "      <th>4</th>\n",
       "      <td>08/01/2000</td>\n",
       "      <td>Westpac Stadium</td>\n",
       "      <td>New Zealand won by 8 wickets</td>\n",
       "      <td>New Zealand</td>\n",
       "      <td>West Indies</td>\n",
       "      <td>New Zealand</td>\n",
       "    </tr>\n",
       "    <tr>\n",
       "      <th>5</th>\n",
       "      <td>09/01/2000</td>\n",
       "      <td>Brisbane Cricket Ground</td>\n",
       "      <td>Pakistan won by 45 runs</td>\n",
       "      <td>Australia</td>\n",
       "      <td>Pakistan</td>\n",
       "      <td>Pakistan</td>\n",
       "    </tr>\n",
       "  </tbody>\n",
       "</table>\n",
       "</div>"
      ],
      "text/plain": [
       "         Date                   Ground                        Result  \\\n",
       "1  02/01/2000                Eden Park  New Zealand won by 3 wickets   \n",
       "2  04/01/2000         Owen Delany Park  New Zealand won by 7 wickets   \n",
       "3  06/01/2000              McLean Park  New Zealand won by 4 wickets   \n",
       "4  08/01/2000          Westpac Stadium  New Zealand won by 8 wickets   \n",
       "5  09/01/2000  Brisbane Cricket Ground       Pakistan won by 45 runs   \n",
       "\n",
       "        Team_A       Team_B       Winner  \n",
       "1  New Zealand  West Indies  New Zealand  \n",
       "2  New Zealand  West Indies  New Zealand  \n",
       "3  New Zealand  West Indies  New Zealand  \n",
       "4  New Zealand  West Indies  New Zealand  \n",
       "5    Australia     Pakistan     Pakistan  "
      ]
     },
     "execution_count": 36,
     "metadata": {},
     "output_type": "execute_result"
    }
   ],
   "source": [
    "res = df[\"Result\"].str.split(\" won \", n = 1, expand = True)\n",
    "df['Winner'] = res[0]\n",
    "df.head()"
   ]
  },
  {
   "cell_type": "code",
   "execution_count": 37,
   "metadata": {},
   "outputs": [
    {
     "data": {
      "text/plain": [
       "Date      2665\n",
       "Ground    2665\n",
       "Result    2665\n",
       "Team_A    2665\n",
       "Team_B    2665\n",
       "Winner    2665\n",
       "dtype: int64"
      ]
     },
     "execution_count": 37,
     "metadata": {},
     "output_type": "execute_result"
    }
   ],
   "source": [
    "df.count()"
   ]
  },
  {
   "cell_type": "code",
   "execution_count": 38,
   "metadata": {},
   "outputs": [
    {
     "data": {
      "text/html": [
       "<div>\n",
       "<style scoped>\n",
       "    .dataframe tbody tr th:only-of-type {\n",
       "        vertical-align: middle;\n",
       "    }\n",
       "\n",
       "    .dataframe tbody tr th {\n",
       "        vertical-align: top;\n",
       "    }\n",
       "\n",
       "    .dataframe thead th {\n",
       "        text-align: right;\n",
       "    }\n",
       "</style>\n",
       "<table border=\"1\" class=\"dataframe\">\n",
       "  <thead>\n",
       "    <tr style=\"text-align: right;\">\n",
       "      <th></th>\n",
       "      <th>Date</th>\n",
       "      <th>Ground</th>\n",
       "      <th>Team_A</th>\n",
       "      <th>Team_B</th>\n",
       "      <th>Winner</th>\n",
       "    </tr>\n",
       "  </thead>\n",
       "  <tbody>\n",
       "    <tr>\n",
       "      <th>1</th>\n",
       "      <td>02/01/2000</td>\n",
       "      <td>Eden Park</td>\n",
       "      <td>New Zealand</td>\n",
       "      <td>West Indies</td>\n",
       "      <td>New Zealand</td>\n",
       "    </tr>\n",
       "    <tr>\n",
       "      <th>2</th>\n",
       "      <td>04/01/2000</td>\n",
       "      <td>Owen Delany Park</td>\n",
       "      <td>New Zealand</td>\n",
       "      <td>West Indies</td>\n",
       "      <td>New Zealand</td>\n",
       "    </tr>\n",
       "    <tr>\n",
       "      <th>3</th>\n",
       "      <td>06/01/2000</td>\n",
       "      <td>McLean Park</td>\n",
       "      <td>New Zealand</td>\n",
       "      <td>West Indies</td>\n",
       "      <td>New Zealand</td>\n",
       "    </tr>\n",
       "    <tr>\n",
       "      <th>4</th>\n",
       "      <td>08/01/2000</td>\n",
       "      <td>Westpac Stadium</td>\n",
       "      <td>New Zealand</td>\n",
       "      <td>West Indies</td>\n",
       "      <td>New Zealand</td>\n",
       "    </tr>\n",
       "    <tr>\n",
       "      <th>5</th>\n",
       "      <td>09/01/2000</td>\n",
       "      <td>Brisbane Cricket Ground</td>\n",
       "      <td>Australia</td>\n",
       "      <td>Pakistan</td>\n",
       "      <td>Pakistan</td>\n",
       "    </tr>\n",
       "  </tbody>\n",
       "</table>\n",
       "</div>"
      ],
      "text/plain": [
       "         Date                   Ground       Team_A       Team_B       Winner\n",
       "1  02/01/2000                Eden Park  New Zealand  West Indies  New Zealand\n",
       "2  04/01/2000         Owen Delany Park  New Zealand  West Indies  New Zealand\n",
       "3  06/01/2000              McLean Park  New Zealand  West Indies  New Zealand\n",
       "4  08/01/2000          Westpac Stadium  New Zealand  West Indies  New Zealand\n",
       "5  09/01/2000  Brisbane Cricket Ground    Australia     Pakistan     Pakistan"
      ]
     },
     "execution_count": 38,
     "metadata": {},
     "output_type": "execute_result"
    }
   ],
   "source": [
    "del df['Result']\n",
    "df.head()"
   ]
  },
  {
   "cell_type": "markdown",
   "metadata": {},
   "source": [
    "### ASSUMPTION 1: Home team adavantage\n",
    "I don't claim to be an expert in any sports. However I do claim to be an expert listener of sports blabber, and one thing that everyone seem to agree on in home team advantage. To factor this into the model I need to figure out if the teams are playing in their home country.\n",
    "We'll get this data by scraping again."
   ]
  },
  {
   "cell_type": "code",
   "execution_count": 11,
   "metadata": {},
   "outputs": [
    {
     "data": {
      "text/html": [
       "<div>\n",
       "<style scoped>\n",
       "    .dataframe tbody tr th:only-of-type {\n",
       "        vertical-align: middle;\n",
       "    }\n",
       "\n",
       "    .dataframe tbody tr th {\n",
       "        vertical-align: top;\n",
       "    }\n",
       "\n",
       "    .dataframe thead th {\n",
       "        text-align: right;\n",
       "    }\n",
       "</style>\n",
       "<table border=\"1\" class=\"dataframe\">\n",
       "  <thead>\n",
       "    <tr style=\"text-align: right;\">\n",
       "      <th></th>\n",
       "      <th>Ground</th>\n",
       "      <th>City</th>\n",
       "      <th>Country</th>\n",
       "    </tr>\n",
       "  </thead>\n",
       "  <tbody>\n",
       "    <tr>\n",
       "      <th>1</th>\n",
       "      <td>Adelaide Oval</td>\n",
       "      <td>Adelaide</td>\n",
       "      <td>Australia</td>\n",
       "    </tr>\n",
       "    <tr>\n",
       "      <th>2</th>\n",
       "      <td>Affies Park</td>\n",
       "      <td>Windhoek</td>\n",
       "      <td>Namibia</td>\n",
       "    </tr>\n",
       "    <tr>\n",
       "      <th>3</th>\n",
       "      <td>Aga Khan Sports Club Ground</td>\n",
       "      <td>Nairobi</td>\n",
       "      <td>Kenya</td>\n",
       "    </tr>\n",
       "    <tr>\n",
       "      <th>4</th>\n",
       "      <td>Al Amerat Cricket Ground</td>\n",
       "      <td>Al Amarat</td>\n",
       "      <td>Oman</td>\n",
       "    </tr>\n",
       "    <tr>\n",
       "      <th>5</th>\n",
       "      <td>Albion Sports Complex</td>\n",
       "      <td>Albion, Berbice, Guyana</td>\n",
       "      <td>West Indies</td>\n",
       "    </tr>\n",
       "  </tbody>\n",
       "</table>\n",
       "</div>"
      ],
      "text/plain": [
       "                        Ground                     City      Country\n",
       "1                Adelaide Oval                 Adelaide    Australia\n",
       "2                  Affies Park                 Windhoek      Namibia\n",
       "3  Aga Khan Sports Club Ground                  Nairobi        Kenya\n",
       "4     Al Amerat Cricket Ground                Al Amarat         Oman\n",
       "5        Albion Sports Complex  Albion, Berbice, Guyana  West Indies"
      ]
     },
     "execution_count": 11,
     "metadata": {},
     "output_type": "execute_result"
    }
   ],
   "source": [
    "groundpage = requests.get('http://www.howstat.com/cricket/Statistics/Grounds/GroundList.asp')\n",
    "soup2 = BeautifulSoup(groundpage.content)\n",
    "table2 = soup2.find(\"table\", attrs={\"class\":\"TableLined\"})\n",
    "for a in table2.findAll('a'):\n",
    "    a.replaceWithChildren()\n",
    "for a in table2.findAll('span'):\n",
    "    a.replaceWithChildren()\n",
    "for a in soup2.findAll('tr'):\n",
    "    del a['bgcolor']\n",
    "\n",
    "for a in soup2.findAll('td'):\n",
    "    del a['align']  \n",
    "    \n",
    "gdfs = pd.read_html(str(table2))\n",
    "g_df = gdfs[0]\n",
    "\n",
    "header = g_df.iloc[0]\n",
    "g_df = g_df[1:]\n",
    "g_df = g_df.rename(columns = header)\n",
    "\n",
    "g_df = g_df[['Ground', 'City', \"Country\"]]\n",
    "g_df.head()"
   ]
  },
  {
   "cell_type": "markdown",
   "metadata": {},
   "source": [
    "Now it's a simple matter of joining the record. Thankfully the ground names are same in the different pages that I used to scrape the game stats. I don't need to do any transformation on the ground name."
   ]
  },
  {
   "cell_type": "code",
   "execution_count": 39,
   "metadata": {},
   "outputs": [
    {
     "data": {
      "text/html": [
       "<div>\n",
       "<style scoped>\n",
       "    .dataframe tbody tr th:only-of-type {\n",
       "        vertical-align: middle;\n",
       "    }\n",
       "\n",
       "    .dataframe tbody tr th {\n",
       "        vertical-align: top;\n",
       "    }\n",
       "\n",
       "    .dataframe thead th {\n",
       "        text-align: right;\n",
       "    }\n",
       "</style>\n",
       "<table border=\"1\" class=\"dataframe\">\n",
       "  <thead>\n",
       "    <tr style=\"text-align: right;\">\n",
       "      <th></th>\n",
       "      <th>Date</th>\n",
       "      <th>Ground</th>\n",
       "      <th>Team_A</th>\n",
       "      <th>Team_B</th>\n",
       "      <th>Winner</th>\n",
       "      <th>City</th>\n",
       "      <th>Host</th>\n",
       "    </tr>\n",
       "  </thead>\n",
       "  <tbody>\n",
       "    <tr>\n",
       "      <th>0</th>\n",
       "      <td>2000-01-02</td>\n",
       "      <td>Eden Park</td>\n",
       "      <td>New Zealand</td>\n",
       "      <td>West Indies</td>\n",
       "      <td>New Zealand</td>\n",
       "      <td>Auckland</td>\n",
       "      <td>New Zealand</td>\n",
       "    </tr>\n",
       "    <tr>\n",
       "      <th>37</th>\n",
       "      <td>2000-01-04</td>\n",
       "      <td>Owen Delany Park</td>\n",
       "      <td>New Zealand</td>\n",
       "      <td>West Indies</td>\n",
       "      <td>New Zealand</td>\n",
       "      <td>Taupo</td>\n",
       "      <td>New Zealand</td>\n",
       "    </tr>\n",
       "    <tr>\n",
       "      <th>39</th>\n",
       "      <td>2000-01-06</td>\n",
       "      <td>McLean Park</td>\n",
       "      <td>New Zealand</td>\n",
       "      <td>West Indies</td>\n",
       "      <td>New Zealand</td>\n",
       "      <td>Napier</td>\n",
       "      <td>New Zealand</td>\n",
       "    </tr>\n",
       "    <tr>\n",
       "      <th>67</th>\n",
       "      <td>2000-01-08</td>\n",
       "      <td>Westpac Stadium</td>\n",
       "      <td>New Zealand</td>\n",
       "      <td>West Indies</td>\n",
       "      <td>New Zealand</td>\n",
       "      <td>Wellington</td>\n",
       "      <td>New Zealand</td>\n",
       "    </tr>\n",
       "    <tr>\n",
       "      <th>98</th>\n",
       "      <td>2000-01-09</td>\n",
       "      <td>Brisbane Cricket Ground</td>\n",
       "      <td>Australia</td>\n",
       "      <td>Pakistan</td>\n",
       "      <td>Pakistan</td>\n",
       "      <td>Brisbane</td>\n",
       "      <td>Australia</td>\n",
       "    </tr>\n",
       "  </tbody>\n",
       "</table>\n",
       "</div>"
      ],
      "text/plain": [
       "         Date                   Ground       Team_A       Team_B       Winner  \\\n",
       "0  2000-01-02                Eden Park  New Zealand  West Indies  New Zealand   \n",
       "37 2000-01-04         Owen Delany Park  New Zealand  West Indies  New Zealand   \n",
       "39 2000-01-06              McLean Park  New Zealand  West Indies  New Zealand   \n",
       "67 2000-01-08          Westpac Stadium  New Zealand  West Indies  New Zealand   \n",
       "98 2000-01-09  Brisbane Cricket Ground    Australia     Pakistan     Pakistan   \n",
       "\n",
       "          City         Host  \n",
       "0     Auckland  New Zealand  \n",
       "37       Taupo  New Zealand  \n",
       "39      Napier  New Zealand  \n",
       "67  Wellington  New Zealand  \n",
       "98    Brisbane    Australia  "
      ]
     },
     "execution_count": 39,
     "metadata": {},
     "output_type": "execute_result"
    }
   ],
   "source": [
    "df_cd = pd.merge(df, g_df, how='inner', on = 'Ground')\n",
    "df_cd['Date'] = pd.to_datetime(df_cd['Date'], format=\"%d/%m/%Y\")\n",
    "df_cd = df_cd.sort_values(by=['Date'])\n",
    "df_cd = df_cd.rename(index=str, columns={\"Country\":\"Host\"})\n",
    "df_cd.head()"
   ]
  },
  {
   "cell_type": "markdown",
   "metadata": {},
   "source": [
    "Get rid of outliars, one offs, cancelled matches, and random matches without a specfic country team"
   ]
  },
  {
   "cell_type": "code",
   "execution_count": 40,
   "metadata": {},
   "outputs": [],
   "source": [
    "#Get rid of all players who just won once\n",
    "df_cd.loc[df_cd['Winner'] == 'ACA Africa X1', 'Winner'] = 'ACA Africa XI'\n",
    "df_cd = df_cd[df_cd[\"Winner\"] != 'ACA Africa XI']\n",
    "df_cd = df_cd[df_cd[\"Winner\"] != 'ICC World XI']\n",
    "df_cd = df_cd[df_cd[\"Winner\"] != 'Namibia']\n",
    "\n",
    "df_cd = df_cd[df_cd['Winner'] != \"No result\"]\n",
    "df_cd = df_cd[df_cd['Winner'] != \"Match cancelled\"]\n",
    "df_cd = df_cd[df_cd['Winner'] != \"Pakistan won (england conceded match)\"]\n"
   ]
  },
  {
   "cell_type": "markdown",
   "metadata": {},
   "source": [
    "Find unique teams"
   ]
  },
  {
   "cell_type": "code",
   "execution_count": 41,
   "metadata": {},
   "outputs": [
    {
     "data": {
      "text/plain": [
       "array(['New Zealand', 'Pakistan', 'Australia', 'South Africa', 'England',\n",
       "       'India', 'Zimbabwe', 'Sri Lanka', 'West Indies', 'Kenya', 'Canada',\n",
       "       'Netherlands', 'Bangladesh', 'ACC Asian XI', 'Bermuda', 'Ireland',\n",
       "       'Scotland', 'Afghanistan', 'United Arab Emirates',\n",
       "       'Papua New Guinea', 'Hong Kong', 'Nepal', 'Oman', 'United States'],\n",
       "      dtype=object)"
      ]
     },
     "execution_count": 41,
     "metadata": {},
     "output_type": "execute_result"
    }
   ],
   "source": [
    "df_cd['Winner'].unique()"
   ]
  },
  {
   "cell_type": "code",
   "execution_count": 42,
   "metadata": {},
   "outputs": [],
   "source": [
    "#Get rid of the teams that have never won\n",
    "df_cd = df_cd[df_cd['Team_A'].isin(df_cd['Winner'].unique()) & df_cd['Team_B'].isin(df_cd['Winner'].unique()) ]"
   ]
  },
  {
   "cell_type": "code",
   "execution_count": 43,
   "metadata": {},
   "outputs": [
    {
     "data": {
      "text/plain": [
       "array(['New Zealand', 'Australia', 'India', 'South Africa', 'England',\n",
       "       'Pakistan', 'Zimbabwe', 'West Indies', 'Bangladesh', 'Sri Lanka',\n",
       "       'Kenya', 'Netherlands', 'Hong Kong', 'Canada', 'Bermuda',\n",
       "       'Ireland', 'Scotland', 'Afghanistan', 'Papua New Guinea',\n",
       "       'United Arab Emirates', 'Nepal', 'Oman', 'United States'],\n",
       "      dtype=object)"
      ]
     },
     "execution_count": 43,
     "metadata": {},
     "output_type": "execute_result"
    }
   ],
   "source": [
    "teams = pd.Series(np.append(df_cd['Team_A'].unique(),df_cd['Team_B'].unique()))\n",
    "teams = pd.Series(teams.unique())\n",
    "teams.unique()"
   ]
  },
  {
   "cell_type": "code",
   "execution_count": 44,
   "metadata": {},
   "outputs": [
    {
     "data": {
      "text/plain": [
       "array(['New Zealand', 'Pakistan', 'Australia', 'South Africa', 'England',\n",
       "       'India', 'Zimbabwe', 'Sri Lanka', 'West Indies', 'Kenya', 'Canada',\n",
       "       'Bangladesh', 'Bermuda', 'Ireland', 'Scotland', 'Netherlands',\n",
       "       'Afghanistan', 'United Arab Emirates', 'Papua New Guinea',\n",
       "       'Hong Kong', 'Nepal', 'Oman', 'United States'], dtype=object)"
      ]
     },
     "execution_count": 44,
     "metadata": {},
     "output_type": "execute_result"
    }
   ],
   "source": [
    "df_cd[\"Winner\"].unique()"
   ]
  },
  {
   "cell_type": "code",
   "execution_count": 45,
   "metadata": {},
   "outputs": [
    {
     "name": "stdout",
     "output_type": "stream",
     "text": [
      "23\n"
     ]
    }
   ],
   "source": [
    "mxsize = len(teams) #Maximum size of the structures\n",
    "print(mxsize)"
   ]
  },
  {
   "cell_type": "markdown",
   "metadata": {},
   "source": [
    "Get the team ID for each"
   ]
  },
  {
   "cell_type": "code",
   "execution_count": 46,
   "metadata": {},
   "outputs": [
    {
     "data": {
      "text/html": [
       "<div>\n",
       "<style scoped>\n",
       "    .dataframe tbody tr th:only-of-type {\n",
       "        vertical-align: middle;\n",
       "    }\n",
       "\n",
       "    .dataframe tbody tr th {\n",
       "        vertical-align: top;\n",
       "    }\n",
       "\n",
       "    .dataframe thead th {\n",
       "        text-align: right;\n",
       "    }\n",
       "</style>\n",
       "<table border=\"1\" class=\"dataframe\">\n",
       "  <thead>\n",
       "    <tr style=\"text-align: right;\">\n",
       "      <th></th>\n",
       "      <th>Date</th>\n",
       "      <th>Ground</th>\n",
       "      <th>Team_A</th>\n",
       "      <th>Team_B</th>\n",
       "      <th>Winner</th>\n",
       "      <th>City</th>\n",
       "      <th>Host</th>\n",
       "      <th>Team_A_id</th>\n",
       "      <th>Team_B_id</th>\n",
       "      <th>Winner_id</th>\n",
       "    </tr>\n",
       "  </thead>\n",
       "  <tbody>\n",
       "    <tr>\n",
       "      <th>0</th>\n",
       "      <td>2000-01-02</td>\n",
       "      <td>Eden Park</td>\n",
       "      <td>New Zealand</td>\n",
       "      <td>West Indies</td>\n",
       "      <td>New Zealand</td>\n",
       "      <td>Auckland</td>\n",
       "      <td>New Zealand</td>\n",
       "      <td>0</td>\n",
       "      <td>7</td>\n",
       "      <td>0</td>\n",
       "    </tr>\n",
       "    <tr>\n",
       "      <th>37</th>\n",
       "      <td>2000-01-04</td>\n",
       "      <td>Owen Delany Park</td>\n",
       "      <td>New Zealand</td>\n",
       "      <td>West Indies</td>\n",
       "      <td>New Zealand</td>\n",
       "      <td>Taupo</td>\n",
       "      <td>New Zealand</td>\n",
       "      <td>0</td>\n",
       "      <td>7</td>\n",
       "      <td>0</td>\n",
       "    </tr>\n",
       "    <tr>\n",
       "      <th>39</th>\n",
       "      <td>2000-01-06</td>\n",
       "      <td>McLean Park</td>\n",
       "      <td>New Zealand</td>\n",
       "      <td>West Indies</td>\n",
       "      <td>New Zealand</td>\n",
       "      <td>Napier</td>\n",
       "      <td>New Zealand</td>\n",
       "      <td>0</td>\n",
       "      <td>7</td>\n",
       "      <td>0</td>\n",
       "    </tr>\n",
       "    <tr>\n",
       "      <th>67</th>\n",
       "      <td>2000-01-08</td>\n",
       "      <td>Westpac Stadium</td>\n",
       "      <td>New Zealand</td>\n",
       "      <td>West Indies</td>\n",
       "      <td>New Zealand</td>\n",
       "      <td>Wellington</td>\n",
       "      <td>New Zealand</td>\n",
       "      <td>0</td>\n",
       "      <td>7</td>\n",
       "      <td>0</td>\n",
       "    </tr>\n",
       "    <tr>\n",
       "      <th>98</th>\n",
       "      <td>2000-01-09</td>\n",
       "      <td>Brisbane Cricket Ground</td>\n",
       "      <td>Australia</td>\n",
       "      <td>Pakistan</td>\n",
       "      <td>Pakistan</td>\n",
       "      <td>Brisbane</td>\n",
       "      <td>Australia</td>\n",
       "      <td>1</td>\n",
       "      <td>5</td>\n",
       "      <td>5</td>\n",
       "    </tr>\n",
       "  </tbody>\n",
       "</table>\n",
       "</div>"
      ],
      "text/plain": [
       "         Date                   Ground       Team_A       Team_B       Winner  \\\n",
       "0  2000-01-02                Eden Park  New Zealand  West Indies  New Zealand   \n",
       "37 2000-01-04         Owen Delany Park  New Zealand  West Indies  New Zealand   \n",
       "39 2000-01-06              McLean Park  New Zealand  West Indies  New Zealand   \n",
       "67 2000-01-08          Westpac Stadium  New Zealand  West Indies  New Zealand   \n",
       "98 2000-01-09  Brisbane Cricket Ground    Australia     Pakistan     Pakistan   \n",
       "\n",
       "          City         Host  Team_A_id  Team_B_id  Winner_id  \n",
       "0     Auckland  New Zealand          0          7          0  \n",
       "37       Taupo  New Zealand          0          7          0  \n",
       "39      Napier  New Zealand          0          7          0  \n",
       "67  Wellington  New Zealand          0          7          0  \n",
       "98    Brisbane    Australia          1          5          5  "
      ]
     },
     "execution_count": 46,
     "metadata": {},
     "output_type": "execute_result"
    }
   ],
   "source": [
    "df_cd['Team_A_id'] = df_cd['Team_A'].apply(lambda x: teams[teams == x].index[0])\n",
    "df_cd['Team_B_id'] = df_cd['Team_B'].apply(lambda x: teams[teams == x].index[0])\n",
    "df_cd['Winner_id'] = df_cd['Winner'].apply(lambda x: teams[teams == x].index[0])\n",
    "df_cd.head()"
   ]
  },
  {
   "cell_type": "markdown",
   "metadata": {},
   "source": [
    "Which of these hosts don't have their own internation teams or have not won a single match."
   ]
  },
  {
   "cell_type": "code",
   "execution_count": 48,
   "metadata": {},
   "outputs": [
    {
     "name": "stdout",
     "output_type": "stream",
     "text": [
      "{'Namibia', 'Morocco', 'Wales', 'Malaysia', 'Singapore'}\n"
     ]
    }
   ],
   "source": [
    "x = df_cd['Host']\n",
    "ninuse = []\n",
    "for winner in x:\n",
    "    if winner not in teams.unique():\n",
    "        ninuse.append(winner)\n",
    "print(set(ninuse))"
   ]
  },
  {
   "cell_type": "markdown",
   "metadata": {},
   "source": [
    "These 5 countries essentially don't have their own team.\n",
    "However, since both Wales and England are a part of GB, I'm going to to just label all the games which were hosted by Wales as hosted by England."
   ]
  },
  {
   "cell_type": "code",
   "execution_count": 50,
   "metadata": {},
   "outputs": [
    {
     "data": {
      "text/html": [
       "<div>\n",
       "<style scoped>\n",
       "    .dataframe tbody tr th:only-of-type {\n",
       "        vertical-align: middle;\n",
       "    }\n",
       "\n",
       "    .dataframe tbody tr th {\n",
       "        vertical-align: top;\n",
       "    }\n",
       "\n",
       "    .dataframe thead th {\n",
       "        text-align: right;\n",
       "    }\n",
       "</style>\n",
       "<table border=\"1\" class=\"dataframe\">\n",
       "  <thead>\n",
       "    <tr style=\"text-align: right;\">\n",
       "      <th></th>\n",
       "      <th>Date</th>\n",
       "      <th>Ground</th>\n",
       "      <th>Team_A</th>\n",
       "      <th>Team_B</th>\n",
       "      <th>Winner</th>\n",
       "      <th>City</th>\n",
       "      <th>Host</th>\n",
       "      <th>Team_A_id</th>\n",
       "      <th>Team_B_id</th>\n",
       "      <th>Winner_id</th>\n",
       "      <th>Host_id</th>\n",
       "    </tr>\n",
       "  </thead>\n",
       "  <tbody>\n",
       "    <tr>\n",
       "      <th>0</th>\n",
       "      <td>2000-01-02</td>\n",
       "      <td>Eden Park</td>\n",
       "      <td>New Zealand</td>\n",
       "      <td>West Indies</td>\n",
       "      <td>New Zealand</td>\n",
       "      <td>Auckland</td>\n",
       "      <td>New Zealand</td>\n",
       "      <td>0</td>\n",
       "      <td>7</td>\n",
       "      <td>0</td>\n",
       "      <td>0</td>\n",
       "    </tr>\n",
       "    <tr>\n",
       "      <th>37</th>\n",
       "      <td>2000-01-04</td>\n",
       "      <td>Owen Delany Park</td>\n",
       "      <td>New Zealand</td>\n",
       "      <td>West Indies</td>\n",
       "      <td>New Zealand</td>\n",
       "      <td>Taupo</td>\n",
       "      <td>New Zealand</td>\n",
       "      <td>0</td>\n",
       "      <td>7</td>\n",
       "      <td>0</td>\n",
       "      <td>0</td>\n",
       "    </tr>\n",
       "    <tr>\n",
       "      <th>39</th>\n",
       "      <td>2000-01-06</td>\n",
       "      <td>McLean Park</td>\n",
       "      <td>New Zealand</td>\n",
       "      <td>West Indies</td>\n",
       "      <td>New Zealand</td>\n",
       "      <td>Napier</td>\n",
       "      <td>New Zealand</td>\n",
       "      <td>0</td>\n",
       "      <td>7</td>\n",
       "      <td>0</td>\n",
       "      <td>0</td>\n",
       "    </tr>\n",
       "    <tr>\n",
       "      <th>67</th>\n",
       "      <td>2000-01-08</td>\n",
       "      <td>Westpac Stadium</td>\n",
       "      <td>New Zealand</td>\n",
       "      <td>West Indies</td>\n",
       "      <td>New Zealand</td>\n",
       "      <td>Wellington</td>\n",
       "      <td>New Zealand</td>\n",
       "      <td>0</td>\n",
       "      <td>7</td>\n",
       "      <td>0</td>\n",
       "      <td>0</td>\n",
       "    </tr>\n",
       "    <tr>\n",
       "      <th>98</th>\n",
       "      <td>2000-01-09</td>\n",
       "      <td>Brisbane Cricket Ground</td>\n",
       "      <td>Australia</td>\n",
       "      <td>Pakistan</td>\n",
       "      <td>Pakistan</td>\n",
       "      <td>Brisbane</td>\n",
       "      <td>Australia</td>\n",
       "      <td>1</td>\n",
       "      <td>5</td>\n",
       "      <td>5</td>\n",
       "      <td>1</td>\n",
       "    </tr>\n",
       "  </tbody>\n",
       "</table>\n",
       "</div>"
      ],
      "text/plain": [
       "         Date                   Ground       Team_A       Team_B       Winner  \\\n",
       "0  2000-01-02                Eden Park  New Zealand  West Indies  New Zealand   \n",
       "37 2000-01-04         Owen Delany Park  New Zealand  West Indies  New Zealand   \n",
       "39 2000-01-06              McLean Park  New Zealand  West Indies  New Zealand   \n",
       "67 2000-01-08          Westpac Stadium  New Zealand  West Indies  New Zealand   \n",
       "98 2000-01-09  Brisbane Cricket Ground    Australia     Pakistan     Pakistan   \n",
       "\n",
       "          City         Host  Team_A_id  Team_B_id  Winner_id  Host_id  \n",
       "0     Auckland  New Zealand          0          7          0        0  \n",
       "37       Taupo  New Zealand          0          7          0        0  \n",
       "39      Napier  New Zealand          0          7          0        0  \n",
       "67  Wellington  New Zealand          0          7          0        0  \n",
       "98    Brisbane    Australia          1          5          5        1  "
      ]
     },
     "execution_count": 50,
     "metadata": {},
     "output_type": "execute_result"
    }
   ],
   "source": [
    "#Initialize Host_id to an ID that none of the Teams playing would belong to. In effect, any game destination\n",
    "# not belonging to Playing countries would be treated the same.\n",
    "# We are giving special treatment to Wales as it is incorrectly marked as a country.\n",
    "df_cd.loc[df_cd['Host'] == 'Wales', 'Host'] = 'England'\n",
    "df_cd['Host_id'] = df_cd['Host'].apply(lambda x: teams[teams == x].index[0] if x in teams.unique() else mxsize)\n",
    "df_cd.head()\n"
   ]
  },
  {
   "cell_type": "markdown",
   "metadata": {},
   "source": [
    "### Assumption 2: Winning streak prophecy\n",
    "\n",
    "Every sports fan I have spoken to talk to, talks about a team or a player underperforming or overperforming because they are in bad/good form.\n",
    "\n",
    "How do we objectify a \"good\" form?\n",
    "If team A is a vastly better team than team B, but team A is in it's worst form and team B is in their best form, then who has a better chance? Surely there is an upper bound for the benefits of a good form!!\n",
    "\n",
    "Based on these questions, I give you:\n",
    "#### Sridhar's AXIOMS of team sports (SATS)\n",
    "==========================================\n",
    "##### Axiom 1: A previous win against any specific team can improve the winning probability by $\\alpha$\n",
    "##### Axiom 2: A previous loss against reduces the winning probability by some $\\beta$, where $\\alpha$ < $\\beta$\n",
    "This is based on the observation that sports fans always say that a team is in form because they have won quite a few matches in the recent past, but are quick to retort the form is broken if the team loses a single game. This points to the fact that a loss is a heavier blow to the psyche than upliftment provided by a win.\n",
    "##### Axiom 3: Specific form against the competitor $\\alpha$' and $\\beta$' also is a factor\n",
    "If team A has always won against team B, then it'll have a higher probability of winning against team B, even if team B has been winning recent string of matches. This effect can be seen in world cup cricket matches between India and Pakistan.\n",
    "##### Axiom 4: The contribution of form to the winning probability is capped to some number\n",
    "##### Axiom 5: The form is function of winning streak\n",
    "============================================\n",
    "\n",
    "From Axiom 5, we know that $\\alpha$=f(streak). So let's just define streak and define it's growth function. I'm arbitrarily chosing a decay of 0.8 for winning streak."
   ]
  },
  {
   "cell_type": "code",
   "execution_count": 55,
   "metadata": {},
   "outputs": [
    {
     "data": {
      "text/plain": [
       "[<matplotlib.lines.Line2D at 0x7f7767e8f128>]"
      ]
     },
     "execution_count": 55,
     "metadata": {},
     "output_type": "execute_result"
    },
    {
     "data": {
      "image/png": "[encoded data removed]",
      "text/plain": [
       "<Figure size 432x288 with 1 Axes>"
      ]
     },
     "metadata": {
      "needs_background": "light"
     },
     "output_type": "display_data"
    }
   ],
   "source": [
    "import matplotlib.pyplot as plt\n",
    "%matplotlib inline\n",
    "streak = []\n",
    "curr = 0\n",
    "for i in range(0,100):\n",
    "    curr = 0.8*curr + 1\n",
    "    streak.append(curr)\n",
    "\n",
    "plt.plot(streak)"
   ]
  },
  {
   "cell_type": "markdown",
   "metadata": {},
   "source": [
    "Here the max streak is 5 that can be achieved by around 30 continuous wins. However I'm going to linearly decrease the streak when a game is lost. \n",
    "Note the arbitrary nature of the decay function and streak increase/decrease. I don't need to get the function exactly right.\n",
    "\n",
    "The machine learning algorithm will figure out the importance to give to the streak.\n",
    "\n",
    "Now let's just add streaks and precompute for the existing set of data"
   ]
  },
  {
   "cell_type": "code",
   "execution_count": 56,
   "metadata": {},
   "outputs": [],
   "source": [
    "df_cd['streak_A'] = 0.0\n",
    "df_cd['streak_B'] = 0.0\n",
    "df_cd['streak_AB'] = 0.0\n",
    "df_cd['streak_BA'] = 0.0\n",
    "\n",
    "\n",
    "streak_matrix = [[float(0)] * mxsize for i in range(mxsize)]\n",
    "total_streak = [float(0)] * mxsize"
   ]
  },
  {
   "cell_type": "code",
   "execution_count": 57,
   "metadata": {},
   "outputs": [],
   "source": [
    "for index, row in df_cd.iterrows():\n",
    "    winner = row['Winner_id']\n",
    "    teamA = row['Team_A_id']\n",
    "    teamB = row['Team_B_id']\n",
    "    \n",
    "    df_cd.at[index, 'streak_AB'] = streak_matrix[teamA][teamB]\n",
    "    df_cd.at[index, 'streak_BA'] = streak_matrix[teamB][teamA]\n",
    "    \n",
    "    loser = teamA\n",
    "    if winner == teamA:\n",
    "        loser = teamB\n",
    "         \n",
    "    df_cd.at[index, 'streak_A'] = total_streak[teamA]\n",
    "    df_cd.at[index, 'streak_B'] = total_streak[teamB]     \n",
    "    \n",
    "    streak_matrix[loser][winner] = streak_matrix[loser][winner] - 0.5\n",
    "    streak_matrix[winner][loser] = 0.8 * (streak_matrix[winner][loser]) + 1\n",
    "    \n",
    "    total_streak[loser] = total_streak[loser] - 0.5\n",
    "    total_streak[winner] = 0.8*(total_streak[winner]) + 1\n",
    "    "
   ]
  },
  {
   "cell_type": "code",
   "execution_count": 58,
   "metadata": {},
   "outputs": [
    {
     "data": {
      "text/html": [
       "<div>\n",
       "<style scoped>\n",
       "    .dataframe tbody tr th:only-of-type {\n",
       "        vertical-align: middle;\n",
       "    }\n",
       "\n",
       "    .dataframe tbody tr th {\n",
       "        vertical-align: top;\n",
       "    }\n",
       "\n",
       "    .dataframe thead th {\n",
       "        text-align: right;\n",
       "    }\n",
       "</style>\n",
       "<table border=\"1\" class=\"dataframe\">\n",
       "  <thead>\n",
       "    <tr style=\"text-align: right;\">\n",
       "      <th></th>\n",
       "      <th>Date</th>\n",
       "      <th>Ground</th>\n",
       "      <th>Team_A</th>\n",
       "      <th>Team_B</th>\n",
       "      <th>Winner</th>\n",
       "      <th>City</th>\n",
       "      <th>Host</th>\n",
       "      <th>Team_A_id</th>\n",
       "      <th>Team_B_id</th>\n",
       "      <th>Winner_id</th>\n",
       "      <th>Host_id</th>\n",
       "      <th>streak_A</th>\n",
       "      <th>streak_B</th>\n",
       "      <th>streak_AB</th>\n",
       "      <th>streak_BA</th>\n",
       "    </tr>\n",
       "  </thead>\n",
       "  <tbody>\n",
       "    <tr>\n",
       "      <th>0</th>\n",
       "      <td>2000-01-02</td>\n",
       "      <td>Eden Park</td>\n",
       "      <td>New Zealand</td>\n",
       "      <td>West Indies</td>\n",
       "      <td>New Zealand</td>\n",
       "      <td>Auckland</td>\n",
       "      <td>New Zealand</td>\n",
       "      <td>0</td>\n",
       "      <td>7</td>\n",
       "      <td>0</td>\n",
       "      <td>0</td>\n",
       "      <td>0.00</td>\n",
       "      <td>0.0</td>\n",
       "      <td>0.00</td>\n",
       "      <td>0.0</td>\n",
       "    </tr>\n",
       "    <tr>\n",
       "      <th>37</th>\n",
       "      <td>2000-01-04</td>\n",
       "      <td>Owen Delany Park</td>\n",
       "      <td>New Zealand</td>\n",
       "      <td>West Indies</td>\n",
       "      <td>New Zealand</td>\n",
       "      <td>Taupo</td>\n",
       "      <td>New Zealand</td>\n",
       "      <td>0</td>\n",
       "      <td>7</td>\n",
       "      <td>0</td>\n",
       "      <td>0</td>\n",
       "      <td>1.00</td>\n",
       "      <td>-0.5</td>\n",
       "      <td>1.00</td>\n",
       "      <td>-0.5</td>\n",
       "    </tr>\n",
       "    <tr>\n",
       "      <th>39</th>\n",
       "      <td>2000-01-06</td>\n",
       "      <td>McLean Park</td>\n",
       "      <td>New Zealand</td>\n",
       "      <td>West Indies</td>\n",
       "      <td>New Zealand</td>\n",
       "      <td>Napier</td>\n",
       "      <td>New Zealand</td>\n",
       "      <td>0</td>\n",
       "      <td>7</td>\n",
       "      <td>0</td>\n",
       "      <td>0</td>\n",
       "      <td>1.80</td>\n",
       "      <td>-1.0</td>\n",
       "      <td>1.80</td>\n",
       "      <td>-1.0</td>\n",
       "    </tr>\n",
       "    <tr>\n",
       "      <th>67</th>\n",
       "      <td>2000-01-08</td>\n",
       "      <td>Westpac Stadium</td>\n",
       "      <td>New Zealand</td>\n",
       "      <td>West Indies</td>\n",
       "      <td>New Zealand</td>\n",
       "      <td>Wellington</td>\n",
       "      <td>New Zealand</td>\n",
       "      <td>0</td>\n",
       "      <td>7</td>\n",
       "      <td>0</td>\n",
       "      <td>0</td>\n",
       "      <td>2.44</td>\n",
       "      <td>-1.5</td>\n",
       "      <td>2.44</td>\n",
       "      <td>-1.5</td>\n",
       "    </tr>\n",
       "    <tr>\n",
       "      <th>98</th>\n",
       "      <td>2000-01-09</td>\n",
       "      <td>Brisbane Cricket Ground</td>\n",
       "      <td>Australia</td>\n",
       "      <td>Pakistan</td>\n",
       "      <td>Pakistan</td>\n",
       "      <td>Brisbane</td>\n",
       "      <td>Australia</td>\n",
       "      <td>1</td>\n",
       "      <td>5</td>\n",
       "      <td>5</td>\n",
       "      <td>1</td>\n",
       "      <td>0.00</td>\n",
       "      <td>0.0</td>\n",
       "      <td>0.00</td>\n",
       "      <td>0.0</td>\n",
       "    </tr>\n",
       "  </tbody>\n",
       "</table>\n",
       "</div>"
      ],
      "text/plain": [
       "         Date                   Ground       Team_A       Team_B       Winner  \\\n",
       "0  2000-01-02                Eden Park  New Zealand  West Indies  New Zealand   \n",
       "37 2000-01-04         Owen Delany Park  New Zealand  West Indies  New Zealand   \n",
       "39 2000-01-06              McLean Park  New Zealand  West Indies  New Zealand   \n",
       "67 2000-01-08          Westpac Stadium  New Zealand  West Indies  New Zealand   \n",
       "98 2000-01-09  Brisbane Cricket Ground    Australia     Pakistan     Pakistan   \n",
       "\n",
       "          City         Host  Team_A_id  Team_B_id  Winner_id  Host_id  \\\n",
       "0     Auckland  New Zealand          0          7          0        0   \n",
       "37       Taupo  New Zealand          0          7          0        0   \n",
       "39      Napier  New Zealand          0          7          0        0   \n",
       "67  Wellington  New Zealand          0          7          0        0   \n",
       "98    Brisbane    Australia          1          5          5        1   \n",
       "\n",
       "    streak_A  streak_B  streak_AB  streak_BA  \n",
       "0       0.00       0.0       0.00        0.0  \n",
       "37      1.00      -0.5       1.00       -0.5  \n",
       "39      1.80      -1.0       1.80       -1.0  \n",
       "67      2.44      -1.5       2.44       -1.5  \n",
       "98      0.00       0.0       0.00        0.0  "
      ]
     },
     "execution_count": 58,
     "metadata": {},
     "output_type": "execute_result"
    }
   ],
   "source": [
    "df_cd.head()"
   ]
  },
  {
   "cell_type": "code",
   "execution_count": 59,
   "metadata": {},
   "outputs": [
    {
     "data": {
      "text/plain": [
       "['/home/sridhar/testcrick.jlb']"
      ]
     },
     "execution_count": 59,
     "metadata": {},
     "output_type": "execute_result"
    }
   ],
   "source": [
    "#Checkpoint\n",
    "joblib.dump(df_cd, '/home/sridhar/testcrick.jlb')"
   ]
  },
  {
   "cell_type": "markdown",
   "metadata": {},
   "source": [
    "Now that we have the data. Let's run a typical xgboost fit to figure out the winning team"
   ]
  },
  {
   "cell_type": "code",
   "execution_count": 93,
   "metadata": {},
   "outputs": [],
   "source": [
    "full_df = df_cd[['Team_A_id', 'Team_B_id', 'Host_id', 'streak_A', 'streak_B', 'streak_AB', 'streak_BA', 'Winner_id']]\n",
    "#Checkpoint\n",
    "joblib.dump(full_df, '/home/sridhar/testcrick_df.jlb')\n",
    "X = full_df[['Team_A_id', 'Team_B_id', 'Host_id', 'streak_A', 'streak_B', 'streak_AB', 'streak_BA']]\n",
    "Y = full_df['Winner_id']\n",
    "\n",
    "X_train, X_test, y_train, y_test = train_test_split(X, Y, stratify=Y, test_size = 0.10)"
   ]
  },
  {
   "cell_type": "code",
   "execution_count": 94,
   "metadata": {},
   "outputs": [],
   "source": [
    "scaler = MinMaxScaler()\n",
    "X_train_scaled = scaler.fit_transform(X_train.values)\n",
    "X_test_scaled = scaler.transform(X_test.values)"
   ]
  },
  {
   "cell_type": "code",
   "execution_count": 98,
   "metadata": {},
   "outputs": [
    {
     "name": "stdout",
     "output_type": "stream",
     "text": [
      "Fitting 3 folds for each of 3 candidates, totalling 9 fits\n"
     ]
    },
    {
     "name": "stderr",
     "output_type": "stream",
     "text": [
      "/home/sridhar/PE_CSV/malenv3/lib/python3.6/site-packages/sklearn/model_selection/_split.py:2053: FutureWarning: You should specify a value for 'cv' instead of relying on the default value. The default value will change from 3 to 5 in version 0.22.\n",
      "  warnings.warn(CV_WARNING, FutureWarning)\n",
      "/home/sridhar/PE_CSV/malenv3/lib/python3.6/site-packages/sklearn/model_selection/_split.py:652: Warning: The least populated class in y has only 2 members, which is too few. The minimum number of members in any class cannot be less than n_splits=3.\n",
      "  % (min_groups, self.n_splits)), Warning)\n",
      "[Parallel(n_jobs=10)]: Using backend LokyBackend with 10 concurrent workers.\n",
      "[Parallel(n_jobs=10)]: Done   9 out of   9 | elapsed:   20.5s finished\n"
     ]
    }
   ],
   "source": [
    "clf = xgb()\n",
    "grid_values = {'learning_rate': [.05, .1, .2],\n",
    "               'n_estimators': [1000],\n",
    "               'num_class': [mxsize],\n",
    "               'max_depth': [10],\n",
    "               'n_jobs': [10],\n",
    "               'verbosity': [0],\n",
    "               'objective': ['multi:softmax']}\n",
    "grid_clf_auc = GridSearchCV(\n",
    "                clf,\n",
    "                param_grid=grid_values,\n",
    "                n_jobs=10,\n",
    "                verbose=True)\n",
    "fit_model = grid_clf_auc.fit(X_train_scaled, y_train)"
   ]
  },
  {
   "cell_type": "code",
   "execution_count": 96,
   "metadata": {},
   "outputs": [
    {
     "data": {
      "text/plain": [
       "GridSearchCV(cv='warn', error_score='raise-deprecating',\n",
       "       estimator=XGBClassifier(base_score=0.5, booster='gbtree', colsample_bylevel=1,\n",
       "       colsample_bynode=1, colsample_bytree=1, gamma=0, learning_rate=0.1,\n",
       "       max_delta_step=0, max_depth=3, min_child_weight=1, missing=None,\n",
       "       n_estimators=100, n_jobs=1, nthread=None,\n",
       "       objective='binary:logistic', random_state=0, reg_alpha=0,\n",
       "       reg_lambda=1, scale_pos_weight=1, seed=None, silent=None,\n",
       "       subsample=1, verbosity=1),\n",
       "       fit_params=None, iid='warn', n_jobs=10,\n",
       "       param_grid={'learning_rate': [0.05, 0.1, 0.2], 'n_estimators': [1000], 'num_class': [23], 'max_depth': [10], 'n_jobs': [10], 'verbosity': [2], 'objective': ['multi:softmax']},\n",
       "       pre_dispatch='2*n_jobs', refit=True, return_train_score='warn',\n",
       "       scoring=None, verbose=True)"
      ]
     },
     "execution_count": 96,
     "metadata": {},
     "output_type": "execute_result"
    }
   ],
   "source": [
    "grid_clf_auc"
   ]
  },
  {
   "cell_type": "code",
   "execution_count": 91,
   "metadata": {},
   "outputs": [
    {
     "data": {
      "text/plain": [
       "{'learning_rate': 0.05,\n",
       " 'max_depth': 10,\n",
       " 'n_estimators': 1000,\n",
       " 'n_jobs': 10,\n",
       " 'num_class': 23,\n",
       " 'objective': 'multi:softmax',\n",
       " 'verbosity': 2}"
      ]
     },
     "execution_count": 91,
     "metadata": {},
     "output_type": "execute_result"
    }
   ],
   "source": [
    "grid_clf_auc.best_params_"
   ]
  },
  {
   "cell_type": "code",
   "execution_count": 97,
   "metadata": {},
   "outputs": [
    {
     "name": "stdout",
     "output_type": "stream",
     "text": [
      "Accuracy on train set: 2288/2288=1.0\n",
      "Accuracy on test set: 171/255=0.6705882352941176\n"
     ]
    }
   ],
   "source": [
    "prediction = grid_clf_auc.predict(X_train_scaled)\n",
    "proba = grid_clf_auc.predict_proba(X_train_scaled)\n",
    "mistakes = 0\n",
    "for y, i, j in zip(y_train, prediction,proba):\n",
    "    if y != i:\n",
    "        mistakes += 1\n",
    "        \n",
    "total_cases = len(y_train)\n",
    "correct_pred = total_cases - mistakes\n",
    "print(\"Accuracy on train set: {}/{}={}\".format(correct_pred, total_cases, float(correct_pred)/total_cases))\n",
    "\n",
    "\n",
    "prediction = grid_clf_auc.predict(X_test_scaled)\n",
    "proba = grid_clf_auc.predict_proba(X_test_scaled)\n",
    "mistakes = 0\n",
    "for y, i, j in zip(y_test, prediction,proba):\n",
    "    if y != i:\n",
    "        mistakes += 1\n",
    "        \n",
    "total_cases = len(y_test)\n",
    "correct_pred = total_cases - mistakes\n",
    "print(\"Accuracy on test set: {}/{}={}\".format(correct_pred, total_cases, float(correct_pred)/total_cases))"
   ]
  },
  {
   "cell_type": "markdown",
   "metadata": {},
   "source": [
    "So, what's happening here?\n",
    "The model is overfitting the training data, and giving around 67% accuracy on the test data. \n",
    "\n",
    "Not a great model.. but meh.. I don't expect a high accuracy on this model because the inputs are highly subjective. If I just win 70% of the game prediction, I'm fine. (Given that I don't know much about the game to start with).\n",
    "\n",
    "** Ended up getting 87% prediction on the World Cup Cricket series :)"
   ]
  },
  {
   "cell_type": "markdown",
   "metadata": {},
   "source": [
    "We can now add helper functions to just checkpoint our solution, and update the streaks to generate updated predictions.\n",
    "This is going to be helpful when predicting matches in a series."
   ]
  },
  {
   "cell_type": "code",
   "execution_count": 69,
   "metadata": {},
   "outputs": [],
   "source": [
    "#checkpoint\n",
    "def checkpoint():\n",
    "    global teams\n",
    "    global scaler\n",
    "    global grid_clf_auc\n",
    "    global streak_matrix\n",
    "    global total_streak\n",
    "    global full_df\n",
    "    joblib.dump(full_df, '/home/sridhar/crick/testcrick_df.jlb')\n",
    "    joblib.dump(teams, '/home/sridhar/crick/teams.jlb')\n",
    "\n",
    "    joblib.dump(scaler, '/home/sridhar/crick/scaler.jlb')\n",
    "\n",
    "    joblib.dump(grid_clf_auc, '/home/sridhar/crick/grid_clf_auc.jlb')\n",
    "\n",
    "    joblib.dump(streak_matrix, '/home/sridhar/crick/streak_matrix.jlb')\n",
    "\n",
    "    joblib.dump(total_streak, '/home/sridhar/crick/total_streak.jlb')\n"
   ]
  },
  {
   "cell_type": "code",
   "execution_count": 70,
   "metadata": {},
   "outputs": [],
   "source": [
    "def load_checkpoint():\n",
    "    global teams\n",
    "    global scaler\n",
    "    global grid_clf_auc\n",
    "    global streak_matrix\n",
    "    global total_streak\n",
    "    global full_df\n",
    "    full_df = joblib.load('/home/sridhar/crick/testcrick_df.jlb')\n",
    "    teams = joblib.load('/home/sridhar/crick/teams.jlb')\n",
    "\n",
    "    scaler = joblib.load('/home/sridhar/crick/scaler.jlb')\n",
    "\n",
    "    grid_clf_auc = joblib.load('/home/sridhar/crick/grid_clf_auc.jlb')\n",
    "\n",
    "    streak_matrix = joblib.load('/home/sridhar/crick/streak_matrix.jlb')\n",
    "\n",
    "    total_streak = joblib.load('/home/sridhar/crick/total_streak.jlb')\n"
   ]
  },
  {
   "cell_type": "code",
   "execution_count": 71,
   "metadata": {},
   "outputs": [],
   "source": [
    "def print_update_prediction(teamA, teamB, host = None, winnername = None):\n",
    "    global teams\n",
    "    global scaler\n",
    "    global grid_clf_auc\n",
    "    global streak_matrix\n",
    "    global total_streak\n",
    "    if host is None:\n",
    "        host = 'England'\n",
    "    mydf = pd.DataFrame([[teamA, teamB, host]], columns=['Team_A', 'Team_B', 'Host'])\n",
    "    mydf['Team_A_id'] = mydf['Team_A'].apply(lambda x: teams[teams == x].index[0])\n",
    "    mydf['Team_B_id'] = mydf['Team_B'].apply(lambda x: teams[teams == x].index[0])\n",
    "    mydf['Host_id'] = mydf['Host'].apply(lambda x: teams[teams == x].index[0])\n",
    "    mydf['streak_A'] = 0.0\n",
    "    mydf['streak_B'] = 0.0\n",
    "    mydf['streak_AB'] = 0.0\n",
    "    mydf['streak_BA'] = 0.0\n",
    "    winnername = None\n",
    "    for index, row in mydf.iterrows():\n",
    "        teamA = row['Team_A_id']\n",
    "        teamB = row['Team_B_id']\n",
    "    \n",
    "        mydf.at[index, 'streak_AB'] = streak_matrix[teamA][teamB]\n",
    "        mydf.at[index, 'streak_BA'] = streak_matrix[teamB][teamA]\n",
    "         \n",
    "        mydf.at[index, 'streak_A'] = total_streak[teamA]\n",
    "        mydf.at[index, 'streak_B'] = total_streak[teamB]\n",
    "        if winnername is not None:\n",
    "            winner = teams[teams == winnername].index[0]\n",
    "            loser = teamA\n",
    "            if winner == teamA:\n",
    "                loser = teamB\n",
    "            \n",
    "            streak_matrix[loser][winner] = streak_matrix[loser][winner] - 0.5\n",
    "            streak_matrix[winner][loser] = 0.8 * (streak_matrix[winner][loser]) + 1\n",
    "    \n",
    "            total_streak[loser] = total_streak[loser] - 0.5\n",
    "            total_streak[winner] = 0.8*(total_streak[winner]) + 1\n",
    "    mydf2 = mydf[['Team_A_id', 'Team_B_id', 'Host_id', 'streak_A', 'streak_B', 'streak_AB', 'streak_BA']]\n",
    "    mydf_scaled = scaler.transform(mydf2.values)\n",
    "    prediction_t = grid_clf_auc.predict(mydf_scaled)\n",
    "    proba_t = grid_clf_auc.predict_proba(mydf_scaled)\n",
    "\n",
    "    for i, j in zip(prediction_t,proba_t):\n",
    "        print(\"{}, {}\".format(teams[i],j[i]))"
   ]
  },
  {
   "cell_type": "markdown",
   "metadata": {},
   "source": [
    "### Prediction\n",
    "Now you could simply predict the game and even provide the winner name back to update the streak and generate the name of the winner with probability score."
   ]
  },
  {
   "cell_type": "code",
   "execution_count": 72,
   "metadata": {},
   "outputs": [
    {
     "name": "stdout",
     "output_type": "stream",
     "text": [
      "Australia, 0.9750151038169861\n"
     ]
    }
   ],
   "source": [
    "print_update_prediction('Australia','Afghanistan', host = 'England')"
   ]
  },
  {
   "cell_type": "code",
   "execution_count": 73,
   "metadata": {},
   "outputs": [
    {
     "name": "stdout",
     "output_type": "stream",
     "text": [
      "India, 0.6103534698486328\n"
     ]
    }
   ],
   "source": [
    "print_update_prediction('India','Australia', host='India') "
   ]
  },
  {
   "cell_type": "code",
   "execution_count": 74,
   "metadata": {},
   "outputs": [
    {
     "name": "stdout",
     "output_type": "stream",
     "text": [
      "India, 0.5572055578231812\n"
     ]
    }
   ],
   "source": [
    "print_update_prediction('India','Australia', host='Australia') "
   ]
  }
 ],
 "metadata": {
  "kernelspec": {
   "display_name": "malenv3",
   "language": "python",
   "name": "malenv3"
  },
  "language_info": {
   "codemirror_mode": {
    "name": "ipython",
    "version": 3
   },
   "file_extension": ".py",
   "mimetype": "text/x-python",
   "name": "python",
   "nbconvert_exporter": "python",
   "pygments_lexer": "ipython3",
   "version": "3.6.8"
  }
 },
 "nbformat": 4,
 "nbformat_minor": 2
}
